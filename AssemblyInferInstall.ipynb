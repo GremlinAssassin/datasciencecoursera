{
  "nbformat": 4,
  "nbformat_minor": 0,
  "metadata": {
    "colab": {
      "name": "AssemblyInferInstall.ipynb",
      "provenance": [],
      "collapsed_sections": [],
      "authorship_tag": "ABX9TyNmVpD2YuwVMWLk9cqKFAWt",
      "include_colab_link": true
    },
    "kernelspec": {
      "name": "python3",
      "display_name": "Python 3"
    },
    "language_info": {
      "name": "python"
    }
  },
  "cells": [
    {
      "cell_type": "markdown",
      "metadata": {
        "id": "view-in-github",
        "colab_type": "text"
      },
      "source": [
        "<a href=\"https://colab.research.google.com/github/GremlinAssassin/datasciencecoursera/blob/master/AssemblyInferInstall.ipynb\" target=\"_parent\"><img src=\"https://colab.research.google.com/assets/colab-badge.svg\" alt=\"Open In Colab\"/></a>"
      ]
    },
    {
      "cell_type": "markdown",
      "source": [
        "Assembly Infer is a package used to calculate the Molecular Assembly Index from experimental data, primarily Mass Spectra. This particular notebook focuses on MS/MS or MS2 data. \n",
        "\n",
        "This was written with data from a Thermo Orbitrap Fusion Lumos mass spectrometer\n",
        "It is important to note that your particular instrument will have slightly different settings and capabilities. Theese settings will take the form of arguments to be passed into the specific functions avalible in this package.\n",
        "\n",
        "If you are not familiar with the terms arguments and functions, its OK there are resources out there that can help. \n",
        "\n",
        "This guide was written by a mass spectrometrist who also did not know what they meant at first - I found this helpful \n",
        "https://www.w3schools.com/python/python_functions.asp"
      ],
      "metadata": {
        "id": "EJA3tIM9F1Ui"
      }
    },
    {
      "cell_type": "markdown",
      "source": [
        "Before running this notebook you will have to download Assembly Infer. It can be done by cloning the git repository. If you are comfortable then go ahead and download from\n",
        "\n",
        "> git clone https://gitlab.com/croningroup/cheminformatics/assemblyinfer\n",
        "\n",
        "and use pip install to install the package\n"
      ],
      "metadata": {
        "id": "Y7r1zFLeIFoh"
      }
    },
    {
      "cell_type": "markdown",
      "source": [
        "If this makes no sense then we will probably need to download and install a couple of applications. The first is Python, to check run the command line or open a terminal.\n",
        "Type python at the cursor, if the display shows python 3.9.... then python is installed on your computer. If not the visit \n",
        "\n",
        "https://www.python.org/downloads/  to install python.\n",
        "\n",
        "Next is git, have a look at this and pick what one fits your computer.\n",
        "\n",
        "https://github.com/git-guides/install-git\n",
        "\n",
        "And finally pip, which enables us to easyily install python packages. Open up a command prompt (cmd in the search bar of windows) or terminal in Mac or Linux.\n",
        "\n",
        "For Windows\n",
        "\n"
      ],
      "metadata": {
        "id": "s61YO_LqJIBA"
      }
    },
    {
      "cell_type": "code",
      "source": [
        "C:> py -m ensurepip --upgrade"
      ],
      "metadata": {
        "id": "ZF2FXopWMzEI"
      },
      "execution_count": null,
      "outputs": []
    },
    {
      "cell_type": "markdown",
      "source": [
        "for Linux"
      ],
      "metadata": {
        "id": "epXQNeiiM6eA"
      }
    },
    {
      "cell_type": "code",
      "source": [
        "$ python -m ensurepip --upgrade"
      ],
      "metadata": {
        "id": "3fUC0_fRM-Qw"
      },
      "execution_count": null,
      "outputs": []
    },
    {
      "cell_type": "markdown",
      "source": [
        "for MacOS"
      ],
      "metadata": {
        "id": "fmn18ZN-NBmw"
      }
    },
    {
      "cell_type": "code",
      "source": [
        "$ python -m ensurepip --upgrade"
      ],
      "metadata": {
        "id": "6qAe3P4qNDA_"
      },
      "execution_count": null,
      "outputs": []
    },
    {
      "cell_type": "markdown",
      "source": [
        "We now have Python, Git and pip. It's time to download and install Assembly Infer. in windows use the search to search for Gitbash. A command prompt like window will open up "
      ],
      "metadata": {
        "id": "Nf4FsEfJNRz5"
      }
    },
    {
      "cell_type": "code",
      "source": [
        "$ git clone https://gitlab.com/croningroup/cheminformatics/assemblyinfer"
      ],
      "metadata": {
        "id": "VAPDKeDmOtwH"
      },
      "execution_count": null,
      "outputs": []
    },
    {
      "cell_type": "markdown",
      "source": [
        "next we have to navigate to where its been downloaded. It is easier to do this with two common commands. -pwd or (path_working_directory) and -cd or (change directory)\n",
        "At the cursor type pwd and hit enter. This will give you the file path you are currently in.\n",
        "Navigate to the folder you downloaded Assembly Infer by  \n",
        "\n",
        "\n"
      ],
      "metadata": {
        "id": "OO_gSfrePtLR"
      }
    },
    {
      "cell_type": "code",
      "source": [
        "cd /c/Users/yourAssemblyInferFolder"
      ],
      "metadata": {
        "id": "rQ2LlCcORKnR"
      },
      "execution_count": null,
      "outputs": []
    },
    {
      "cell_type": "markdown",
      "source": [
        "Final Install step now, once you are in the assembly infer folder we are going to use pip to install the package."
      ],
      "metadata": {
        "id": "tesszdJ-RT3e"
      }
    },
    {
      "cell_type": "code",
      "source": [
        "pip install -e ."
      ],
      "metadata": {
        "id": "dtzFoKBsSGwg"
      },
      "execution_count": null,
      "outputs": []
    },
    {
      "cell_type": "markdown",
      "source": [
        "the . at the end is important!\n",
        "And that's Assembly Infer hopefully installed. The full Documnetation can be found here \n",
        "\n",
        "https://croningroup.gitlab.io/cheminformatics/assemblyinfer/index.html\n",
        "\n",
        "We have also put together some standard scripts to help get you started.\n",
        "\n",
        "For Direct Injection MSMS the Notebook is here\n",
        "\n",
        "https://Directinjection_script_on_the_git.git\n",
        "\n",
        "For LC MS the notbook is at\n",
        "\n",
        "https://LCMSMS_script_on_the_git.git\n",
        "\n",
        "Any questions contact ; Hopefully some email address."
      ],
      "metadata": {
        "id": "d4Q2C7WvSKN4"
      }
    }
  ]
}